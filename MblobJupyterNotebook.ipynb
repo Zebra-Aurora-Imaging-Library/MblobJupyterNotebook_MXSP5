{
 "cells": [
  {
   "cell_type": "markdown",
   "id": "912db034-7eb0-486a-ae64-77021f74149c",
   "metadata": {
    "tags": []
   },
   "source": [
    "## File name: MblobNotebook.ipynb\n",
    "\n",
    "### Synopsis:  \n",
    "This program loads an image of some nuts, bolts and washers, determines the number of each of these, finds and marks their center of gravity using the Blob analysis module.\n",
    " \n",
    "Copyright © 1992-2024 Zebra Technologies Corp. and/or its affiliates\n",
    "\n",
    "All Rights Reserved"
   ]
  },
  {
   "cell_type": "code",
   "execution_count": null,
   "id": "cfee2872-fa1c-41e1-bc9b-3a5e8a5e1cec",
   "metadata": {},
   "outputs": [],
   "source": [
    "import mil as MIL"
   ]
  },
  {
   "cell_type": "markdown",
   "id": "82f05db1-694c-4cfa-bed0-41e07aa469ab",
   "metadata": {},
   "source": [
    "**Constants**"
   ]
  },
  {
   "cell_type": "code",
   "execution_count": null,
   "id": "a2c92f03-1a79-4681-91ad-19f48e94694e",
   "metadata": {
    "tags": []
   },
   "outputs": [],
   "source": [
    "# Target MIL image file specifications.\n",
    "IMAGE_FILE            = MIL.M_IMAGE_PATH + \"BoltsNutsWashers.mim\"\n",
    "IMAGE_THRESHOLD_VALUE = 26 \n",
    "\n",
    "# Minimum and maximum area of blobs.\n",
    "MIN_BLOB_AREA         = 50 \n",
    "MAX_BLOB_AREA         = 50000\n",
    "\n",
    "# Radius of the smallest particles to keep. \n",
    "MIN_BLOB_RADIUS       = 3\n",
    "\n",
    "# Minimum hole compactness corresponding to a washer. \n",
    "MIN_COMPACTNESS       = 1.5"
   ]
  },
  {
   "cell_type": "markdown",
   "id": "3ada209b-6c92-45cb-99e0-87c85a24e190",
   "metadata": {},
   "source": [
    "**Allocate core objects and image loading**"
   ]
  },
  {
   "cell_type": "code",
   "execution_count": null,
   "id": "ff39d5ea-a696-4f1f-9dfa-e32f44931975",
   "metadata": {},
   "outputs": [],
   "source": [
    "# Allocate defaults. \n",
    "MilApplication, MilSystem, MilDisplay = MIL.MappAllocDefault(MIL.M_DEFAULT, DigIdPtr=MIL.M_NULL, ImageBufIdPtr=MIL.M_NULL)\n",
    "\n",
    "# Restore source image into image buffer.  \n",
    "MilImage = MIL.MbufRestore(IMAGE_FILE, MilSystem)\n",
    "\n",
    "# Allocate a graphic list to hold the subpixel annotations to draw. \n",
    "MilGraphicList = MIL.MgraAllocList(MilSystem, MIL.M_DEFAULT)\n",
    "\n",
    "# Associate the graphic list to the display. \n",
    "MIL.MdispControl(MilDisplay, MIL.M_ASSOCIATED_GRAPHIC_LIST_ID, MilGraphicList)\n",
    "\n",
    "# Display the buffer. \n",
    "MIL.MdispSelect(MilDisplay, MilImage)"
   ]
  },
  {
   "cell_type": "markdown",
   "id": "516e3a55-3055-4aee-94ec-3d552bbf0660",
   "metadata": {},
   "source": [
    "**Image pre-processing**"
   ]
  },
  {
   "cell_type": "code",
   "execution_count": null,
   "id": "e66b9380-820f-4403-81d8-073bc041e9fa",
   "metadata": {},
   "outputs": [],
   "source": [
    "# Allocate a binary image buffer for fast processing. \n",
    "SizeX = MIL.MbufInquire(MilImage, MIL.M_SIZE_X)\n",
    "SizeY = MIL.MbufInquire(MilImage, MIL.M_SIZE_Y)\n",
    "MilBinImage = MIL.MbufAlloc2d(MilSystem, SizeX, SizeY, 1+MIL.M_UNSIGNED, MIL.M_IMAGE+MIL.M_PROC)\n",
    "\n",
    "# Binarize image. \n",
    "MIL.MimBinarize(MilImage, MilBinImage, MIL.M_FIXED+MIL.M_GREATER_OR_EQUAL, IMAGE_THRESHOLD_VALUE, MIL.M_NULL)\n",
    "\n",
    "# Remove small particles and then remove small holes. \n",
    "MIL.MimOpen(MilBinImage, MilBinImage, MIN_BLOB_RADIUS, MIL.M_BINARY)\n",
    "MIL.MimClose(MilBinImage, MilBinImage, MIN_BLOB_RADIUS, MIL.M_BINARY)"
   ]
  },
  {
   "cell_type": "markdown",
   "id": "37dc1e91-a278-47be-aec2-0279791e5c28",
   "metadata": {},
   "source": [
    "**BLOB ANALYSIS:**\n",
    "This program determines the number of bolts, nuts and washers in the image then finds and displays their center of gravity."
   ]
  },
  {
   "cell_type": "code",
   "execution_count": null,
   "id": "88e403bf-4351-4335-94d7-638ce8f599a0",
   "metadata": {},
   "outputs": [],
   "source": [
    "# Allocate a context.  \n",
    "MilBlobContext = MIL.MblobAlloc(MilSystem, MIL.M_DEFAULT, MIL.M_DEFAULT)\n",
    "\n",
    "# Enable the Center Of Gravity feature calculation.  \n",
    "MIL.MblobControl(MilBlobContext, MIL.M_CENTER_OF_GRAVITY + MIL.M_BINARY, MIL.M_ENABLE)\n",
    "\n",
    "# Allocate a blob result buffer. \n",
    "MilBlobResult = MIL.MblobAllocResult(MilSystem, MIL.M_DEFAULT, MIL.M_DEFAULT) \n",
    "\n",
    "# Calculate selected features for each blob.  \n",
    "MIL.MblobCalculate(MilBlobContext, MilBinImage, MIL.M_NULL, MilBlobResult)\n",
    "\n",
    "# Exclude blobs whose area is too small.  \n",
    "MIL.MblobSelect(MilBlobResult, MIL.M_EXCLUDE, MIL.M_AREA, MIL.M_LESS_OR_EQUAL, MIN_BLOB_AREA, MIL.M_NULL) \n",
    "\n",
    "# Draw a cross at the center of gravity of each blob.   \n",
    "MIL.MgraColor(MIL.M_DEFAULT, MIL.M_COLOR_RED)\n",
    "MIL.MblobDraw(MIL.M_DEFAULT, MilBlobResult, MilGraphicList, MIL.M_DRAW_CENTER_OF_GRAVITY, MIL.M_INCLUDED_BLOBS, MIL.M_DEFAULT)"
   ]
  },
  {
   "cell_type": "markdown",
   "id": "858df479-5d82-4989-acd1-9f25411e6995",
   "metadata": {},
   "source": [
    "**Retrieve the results**"
   ]
  },
  {
   "cell_type": "code",
   "execution_count": null,
   "id": "86fd6b82-88bb-4809-bb28-28e34b3e516f",
   "metadata": {},
   "outputs": [],
   "source": [
    "# Get the total number of selected blobs.  \n",
    "TotalBlobs = MIL.MblobGetResult(MilBlobResult, MIL.M_DEFAULT, MIL.M_NUMBER + MIL.M_TYPE_MIL_INT)\n",
    "print(\"There are {} objects.\".format(TotalBlobs)) "
   ]
  },
  {
   "cell_type": "code",
   "execution_count": null,
   "id": "dcc089bd-a28d-451d-9593-65deaca53c27",
   "metadata": {},
   "outputs": [],
   "source": [
    " # Get the resuls. \n",
    "CogX = MIL.MblobGetResult(MilBlobResult, MIL.M_INCLUDED_BLOBS, MIL.M_CENTER_OF_GRAVITY_X + MIL.M_BINARY)\n",
    "CogY = MIL.MblobGetResult(MilBlobResult, MIL.M_INCLUDED_BLOBS, MIL.M_CENTER_OF_GRAVITY_Y + MIL.M_BINARY)\n",
    "\n",
    "print(\"The center of gravity of the objects are:\")\n",
    "for n in range (0, TotalBlobs):\n",
    "  print(\"Blob #{}: X={:5.1f}, Y={:5.1f}\".format(int(n), CogX[n], CogY[n]))"
   ]
  },
  {
   "cell_type": "code",
   "execution_count": null,
   "id": "b825e79c-6b5b-441d-8093-8c105446826f",
   "metadata": {},
   "outputs": [],
   "source": [
    "input(\"Press Enter to release objects and terminate...\")"
   ]
  },
  {
   "cell_type": "markdown",
   "id": "929add7b-776c-4e48-b799-09e2032cda03",
   "metadata": {},
   "source": [
    "**Free allocated objects**"
   ]
  },
  {
   "cell_type": "code",
   "execution_count": null,
   "id": "fba11c3d-f633-4541-a5db-6c44e1bab472",
   "metadata": {},
   "outputs": [],
   "source": [
    "# Free all allocations. \n",
    "MIL.MgraFree(MilGraphicList)\n",
    "MIL.MblobFree(MilBlobResult) \n",
    "MIL.MblobFree(MilBlobContext)\n",
    "MIL.MbufFree(MilBinImage)\n",
    "MIL.MbufFree(MilImage)\n",
    "MIL.MappFreeDefault(MilApplication, MilSystem, MilDisplay, MIL.M_NULL, MIL.M_NULL)\n",
    "print(\"end.\")"
   ]
  },
  {
   "cell_type": "code",
   "execution_count": null,
   "id": "ca0a22b1-a57d-4866-838d-b69b861f8ca2",
   "metadata": {},
   "outputs": [],
   "source": []
  }
 ],
 "metadata": {
  "kernelspec": {
   "display_name": "Python 3 (ipykernel)",
   "language": "python",
   "name": "python3"
  },
  "language_info": {
   "codemirror_mode": {
    "name": "ipython",
    "version": 3
   },
   "file_extension": ".py",
   "mimetype": "text/x-python",
   "name": "python",
   "nbconvert_exporter": "python",
   "pygments_lexer": "ipython3",
   "version": "3.9.6"
  }
 },
 "nbformat": 4,
 "nbformat_minor": 5
}
